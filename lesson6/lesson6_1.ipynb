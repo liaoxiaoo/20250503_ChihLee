{
 "cells": [
  {
   "cell_type": "markdown",
   "id": "7f9fb4d2",
   "metadata": {},
   "source": [
    "# 結構化專案程式\n",
    "- function"
   ]
  },
  {
   "cell_type": "code",
   "execution_count": 2,
   "id": "96456a10",
   "metadata": {},
   "outputs": [
    {
     "name": "stdout",
     "output_type": "stream",
     "text": [
      "Hello! Function\n"
     ]
    }
   ],
   "source": [
    "print (\"Hello! Function\")"
   ]
  }
 ],
 "metadata": {
  "kernelspec": {
   "display_name": "ChihLee1",
   "language": "python",
   "name": "python3"
  },
  "language_info": {
   "codemirror_mode": {
    "name": "ipython",
    "version": 3
   },
   "file_extension": ".py",
   "mimetype": "text/x-python",
   "name": "python",
   "nbconvert_exporter": "python",
   "pygments_lexer": "ipython3",
   "version": "3.10.16"
  }
 },
 "nbformat": 4,
 "nbformat_minor": 5
}
