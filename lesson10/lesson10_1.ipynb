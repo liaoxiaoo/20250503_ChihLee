{
 "cells": [
  {
   "cell_type": "markdown",
   "id": "ac4a2017",
   "metadata": {},
   "source": [
    "https://www.perplexity.ai/search/3fe51208-8e87-4055-9e80-8c6114ac49d3"
   ]
  },
  {
   "cell_type": "code",
   "execution_count": null,
   "id": "63634670",
   "metadata": {},
   "outputs": [],
   "source": [
    "import csv\n",
    "\n",
    "with open('個股日成交資訊.csv',encoding='utf-8',newline='') as csvfile:\n",
    "    reader = csv.reader(csvfile)\n",
    "    next(reader)\n",
    "    stocks:list[list] = list(reader)\n",
    "stocks"
   ]
  },
  {
   "cell_type": "code",
   "execution_count": null,
   "id": "f45103c6",
   "metadata": {},
   "outputs": [],
   "source": [
    "import csv\n",
    "\n",
    "with open('個股日成交資訊.csv',encoding='utf-8',newline='') as csvfile:\n",
    "    reader = csv.reader(csvfile)\n",
    "    next(reader) # 跳過標頭行\n",
    "    stocks:list[list] = list(reader)\n",
    "\n",
    "# 將每一行顯示完後就換新的一行顯示在螢幕上\n",
    "print(\"顯示所有股票資料 (每一行代表一筆股票資訊):\")\n",
    "for row in stocks:\n",
    "    # print(row) 會將列表 (row) 轉換為其字串表示法並印出，\n",
    "    # 然後 print() 函數會自動在結尾加上換行符，移至下一行。\n",
    "    print(row)\n",
    "\n",
    "#type(stocks) # 您可以保留這行來檢查 stocks 的類型\n"
   ]
  },
  {
   "cell_type": "code",
   "execution_count": 6,
   "id": "1be1f3d2",
   "metadata": {},
   "outputs": [
    {
     "name": "stdout",
     "output_type": "stream",
     "text": [
      "stocks 中共有1113筆資料。\n"
     ]
    }
   ],
   "source": [
    "import csv\n",
    "\n",
    "with open('個股日成交資訊.csv',encoding='utf-8',newline='') as csvfile:\n",
    "    reader = csv.DictReader(csvfile)\n",
    "    stocks:list[dict] = list(reader)\n",
    "# 印出 stocks 串列中的資料筆數\n",
    "print (f\"stocks 中共有{len(stocks)}筆資料。\")\n"
   ]
  },
  {
   "cell_type": "code",
   "execution_count": 7,
   "id": "62d9a867",
   "metadata": {},
   "outputs": [
    {
     "data": {
      "text/html": [
       "<div>\n",
       "<style scoped>\n",
       "    .dataframe tbody tr th:only-of-type {\n",
       "        vertical-align: middle;\n",
       "    }\n",
       "\n",
       "    .dataframe tbody tr th {\n",
       "        vertical-align: top;\n",
       "    }\n",
       "\n",
       "    .dataframe thead th {\n",
       "        text-align: right;\n",
       "    }\n",
       "</style>\n",
       "<table border=\"1\" class=\"dataframe\">\n",
       "  <thead>\n",
       "    <tr style=\"text-align: right;\">\n",
       "      <th></th>\n",
       "      <th>證券代號</th>\n",
       "      <th>證券名稱</th>\n",
       "      <th>成交股數</th>\n",
       "      <th>成交金額</th>\n",
       "      <th>開盤價</th>\n",
       "      <th>最高價</th>\n",
       "      <th>最低價</th>\n",
       "      <th>收盤價</th>\n",
       "      <th>漲跌價差</th>\n",
       "      <th>成交筆數</th>\n",
       "    </tr>\n",
       "  </thead>\n",
       "  <tbody>\n",
       "    <tr>\n",
       "      <th>0</th>\n",
       "      <td>0050</td>\n",
       "      <td>元大台灣50</td>\n",
       "      <td>46,790,503</td>\n",
       "      <td>3,463,425,684</td>\n",
       "      <td>74.95</td>\n",
       "      <td>75.25</td>\n",
       "      <td>72.80</td>\n",
       "      <td>72.80</td>\n",
       "      <td>-2.05</td>\n",
       "      <td>23,021</td>\n",
       "    </tr>\n",
       "    <tr>\n",
       "      <th>1</th>\n",
       "      <td>0051</td>\n",
       "      <td>元大中型100</td>\n",
       "      <td>43,172</td>\n",
       "      <td>1,177,199</td>\n",
       "      <td>27.30</td>\n",
       "      <td>27.57</td>\n",
       "      <td>26.75</td>\n",
       "      <td>26.75</td>\n",
       "      <td>-0.52</td>\n",
       "      <td>45</td>\n",
       "    </tr>\n",
       "    <tr>\n",
       "      <th>2</th>\n",
       "      <td>0052</td>\n",
       "      <td>富邦科技</td>\n",
       "      <td>161,425</td>\n",
       "      <td>9,156,750</td>\n",
       "      <td>57.60</td>\n",
       "      <td>57.60</td>\n",
       "      <td>55.35</td>\n",
       "      <td>55.35</td>\n",
       "      <td>-2.35</td>\n",
       "      <td>67</td>\n",
       "    </tr>\n",
       "    <tr>\n",
       "      <th>3</th>\n",
       "      <td>0053</td>\n",
       "      <td>元大電子</td>\n",
       "      <td>35,076</td>\n",
       "      <td>1,163,448</td>\n",
       "      <td>33.36</td>\n",
       "      <td>33.61</td>\n",
       "      <td>32.56</td>\n",
       "      <td>32.69</td>\n",
       "      <td>-0.67</td>\n",
       "      <td>19</td>\n",
       "    </tr>\n",
       "    <tr>\n",
       "      <th>4</th>\n",
       "      <td>0054</td>\n",
       "      <td>元大台商50</td>\n",
       "      <td>27,028</td>\n",
       "      <td>507,569</td>\n",
       "      <td>18.80</td>\n",
       "      <td>19.00</td>\n",
       "      <td>18.64</td>\n",
       "      <td>18.64</td>\n",
       "      <td>-0.36</td>\n",
       "      <td>13</td>\n",
       "    </tr>\n",
       "  </tbody>\n",
       "</table>\n",
       "</div>"
      ],
      "text/plain": [
       "   證券代號     證券名稱        成交股數           成交金額    開盤價    最高價    最低價    收盤價  \\\n",
       "0  0050   元大台灣50  46,790,503  3,463,425,684  74.95  75.25  72.80  72.80   \n",
       "1  0051  元大中型100      43,172      1,177,199  27.30  27.57  26.75  26.75   \n",
       "2  0052     富邦科技     161,425      9,156,750  57.60  57.60  55.35  55.35   \n",
       "3  0053     元大電子      35,076      1,163,448  33.36  33.61  32.56  32.69   \n",
       "4  0054   元大台商50      27,028        507,569  18.80  19.00  18.64  18.64   \n",
       "\n",
       "    漲跌價差    成交筆數  \n",
       "0  -2.05  23,021  \n",
       "1  -0.52      45  \n",
       "2  -2.35      67  \n",
       "3  -0.67      19  \n",
       "4  -0.36      13  "
      ]
     },
     "execution_count": 7,
     "metadata": {},
     "output_type": "execute_result"
    }
   ],
   "source": [
    "import pandas as pd\n",
    "\n",
    "pd.DataFrame(stocks).head()"
   ]
  },
  {
   "cell_type": "markdown",
   "id": "d1615c48",
   "metadata": {},
   "source": [
    "https://www.perplexity.ai/search/e444a2ad-db91-4391-87be-a868c2f7c55f"
   ]
  },
  {
   "cell_type": "code",
   "execution_count": 8,
   "id": "6f0e4dce",
   "metadata": {},
   "outputs": [],
   "source": [
    "import pandas as pd\n",
    "\n",
    "df1 = pd.DataFrame(stocks)\n",
    "df1.to_excel('個股日成交資訊.xlsx',sheet_name='第1頁',index=False)"
   ]
  }
 ],
 "metadata": {
  "kernelspec": {
   "display_name": "ChihLee1",
   "language": "python",
   "name": "python3"
  },
  "language_info": {
   "codemirror_mode": {
    "name": "ipython",
    "version": 3
   },
   "file_extension": ".py",
   "mimetype": "text/x-python",
   "name": "python",
   "nbconvert_exporter": "python",
   "pygments_lexer": "ipython3",
   "version": "3.10.16"
  }
 },
 "nbformat": 4,
 "nbformat_minor": 5
}
