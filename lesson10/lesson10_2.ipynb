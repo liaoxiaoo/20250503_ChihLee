{
 "cells": [
  {
   "cell_type": "code",
   "execution_count": 1,
   "id": "3dc5e709",
   "metadata": {},
   "outputs": [
    {
     "data": {
      "text/plain": [
       "<bound method NDFrame.tail of       證券代號     證券名稱        成交股數           成交金額    開盤價    最高價    最低價    收盤價  \\\n",
       "0     0050   元大台灣50  46,790,503  3,463,425,684  74.95  75.25  72.80  72.80   \n",
       "1     0051  元大中型100      43,172      1,177,199  27.30  27.57  26.75  26.75   \n",
       "2     0052     富邦科技     161,425      9,156,750  57.60  57.60  55.35  55.35   \n",
       "3     0053     元大電子      35,076      1,163,448  33.36  33.61  32.56  32.69   \n",
       "4     0054   元大台商50      27,028        507,569  18.80  19.00  18.64  18.64   \n",
       "...    ...      ...         ...            ...    ...    ...    ...    ...   \n",
       "1108  9944       新麗   1,463,020     22,024,560  15.60  15.60  14.60  14.65   \n",
       "1109  9945      潤泰新   5,262,676    178,768,894  34.20  34.30  33.40  33.40   \n",
       "1110  9946     三發地產     871,456     10,936,770  12.55  12.55  12.55  12.55   \n",
       "1111  9955       佳龍     827,246     10,257,476  13.10  13.10  11.85  12.10   \n",
       "1112  9958      世紀鋼  10,816,881    868,126,524  81.00  81.80  78.50  79.50   \n",
       "\n",
       "       漲跌價差    成交筆數  \n",
       "0     -2.05  23,021  \n",
       "1     -0.52      45  \n",
       "2     -2.35      67  \n",
       "3     -0.67      19  \n",
       "4     -0.36      13  \n",
       "...     ...     ...  \n",
       "1108  -0.75     796  \n",
       "1109  -0.65   3,169  \n",
       "1110  -1.35      46  \n",
       "1111  -0.50     412  \n",
       "1112  +0.90   6,743  \n",
       "\n",
       "[1113 rows x 10 columns]>"
      ]
     },
     "execution_count": 1,
     "metadata": {},
     "output_type": "execute_result"
    }
   ],
   "source": [
    "import pandas as pd\n",
    "df = pd.read_excel(\"個股日成交資訊.xlsx\")\n",
    "df.tail"
   ]
  }
 ],
 "metadata": {
  "kernelspec": {
   "display_name": "ChihLee1",
   "language": "python",
   "name": "python3"
  },
  "language_info": {
   "codemirror_mode": {
    "name": "ipython",
    "version": 3
   },
   "file_extension": ".py",
   "mimetype": "text/x-python",
   "name": "python",
   "nbconvert_exporter": "python",
   "pygments_lexer": "ipython3",
   "version": "3.10.16"
  }
 },
 "nbformat": 4,
 "nbformat_minor": 5
}
