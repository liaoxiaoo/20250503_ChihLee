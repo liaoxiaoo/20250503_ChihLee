{
 "cells": [
  {
   "cell_type": "code",
   "execution_count": null,
   "id": "9d80983f",
   "metadata": {},
   "outputs": [
    {
     "name": "stdout",
     "output_type": "stream",
     "text": [
      "['\\ufeffReservoirIdentifier', 'ReservoirName', 'RiverName', 'TownName']\n",
      "['10204', '新山水庫', '基隆河支流大武崙溪支流新山溪', '基隆巿安樂區']\n",
      "['10203', '西勢水庫', '基隆河支流西勢溪', '基隆巿暖暖區']\n",
      "['10205', '翡翠水庫', '新店溪支流北勢溪', '新北市新店區']\n",
      "['10302', '粗坑壩', '淡水河支流新店溪', '新北市新店區']\n"
     ]
    }
   ],
   "source": [
    "import csv\n",
    "\n",
    "with open('水庫代碼.csv',encoding='utf-8',newline='') as csvfile:\n",
    "    reader = csv.reader(csvfile)\n",
    "    data = list(reader) # 把整份資料轉成 list 儲存\n",
    "\n",
    "for row in data[:5]:\n",
    "    print(row)"
   ]
  },
  {
   "cell_type": "code",
   "execution_count": 9,
   "id": "5f3b7543",
   "metadata": {},
   "outputs": [
    {
     "name": "stdout",
     "output_type": "stream",
     "text": [
      "   ReservoirIdentifier ReservoirName       RiverName TownName\n",
      "0                10204          新山水庫  基隆河支流大武崙溪支流新山溪   基隆巿安樂區\n",
      "1                10203          西勢水庫        基隆河支流西勢溪   基隆巿暖暖區\n",
      "2                10205          翡翠水庫        新店溪支流北勢溪   新北市新店區\n",
      "3                10302           粗坑壩        淡水河支流新店溪   新北市新店區\n",
      "4                10212           直潭壩        淡水河支流新店溪   新北市新店區\n"
     ]
    }
   ],
   "source": [
    "import pandas as pd\n",
    "\n",
    "df = pd.read_csv('水庫代碼.csv',encoding='utf-8')\n",
    "\n",
    "print (df.head())"
   ]
  },
  {
   "cell_type": "code",
   "execution_count": null,
   "id": "3b74e392",
   "metadata": {},
   "outputs": [
    {
     "name": "stdout",
     "output_type": "stream",
     "text": [
      "平均分數:84.67\n"
     ]
    }
   ],
   "source": [
    "import pandas as pd\n",
    "\n",
    "df = pd.read_csv('students.csv', encoding='utf-8')\n",
    "avg = df['分數'].mean()\n",
    "\n",
    "print (f\"平均分數:{avg:.2f}\")\n"
   ]
  },
  {
   "cell_type": "code",
   "execution_count": 1,
   "id": "b9de5c3b",
   "metadata": {},
   "outputs": [
    {
     "name": "stdout",
     "output_type": "stream",
     "text": [
      "'白' 出現 5 次\n",
      "'千' 出現 5 次\n",
      "'日' 出現 4 次\n",
      "'海' 出現 4 次\n",
      "'依' 出現 2 次\n",
      "白日依山盡黃河入海流欲窮千里目更上一層樓白白日日依千千海海白千千海日白\n"
     ]
    }
   ],
   "source": [
    "from collections import Counter\n",
    "\n",
    "with open ('poem.txt' ,encoding=\"utf-8\") as f:\n",
    "    text = f.read()\n",
    "\n",
    "# 移除空白與換行符號\n",
    "text = text.replace('\\n','')\n",
    "\n",
    "# 拆成每個字，建立統計\n",
    "char_list = list(text)\n",
    "counter = Counter(char_list)\n",
    "\n",
    "# 顯示前 5 名最常見的字與次數\n",
    "for char, count in counter.most_common(5):\n",
    "    print(f\"'{char}' 出現 {count} 次\")\n",
    "\n",
    "print(text)"
   ]
  }
 ],
 "metadata": {
  "kernelspec": {
   "display_name": "ChihLee1",
   "language": "python",
   "name": "python3"
  },
  "language_info": {
   "codemirror_mode": {
    "name": "ipython",
    "version": 3
   },
   "file_extension": ".py",
   "mimetype": "text/x-python",
   "name": "python",
   "nbconvert_exporter": "python",
   "pygments_lexer": "ipython3",
   "version": "3.10.16"
  }
 },
 "nbformat": 4,
 "nbformat_minor": 5
}
