{
 "cells": [
  {
   "cell_type": "code",
   "execution_count": null,
   "id": "9d80983f",
   "metadata": {},
   "outputs": [
    {
     "name": "stdout",
     "output_type": "stream",
     "text": [
      "['\\ufeffReservoirIdentifier', 'ReservoirName', 'RiverName', 'TownName']\n",
      "['10204', '新山水庫', '基隆河支流大武崙溪支流新山溪', '基隆巿安樂區']\n",
      "['10203', '西勢水庫', '基隆河支流西勢溪', '基隆巿暖暖區']\n",
      "['10205', '翡翠水庫', '新店溪支流北勢溪', '新北市新店區']\n",
      "['10302', '粗坑壩', '淡水河支流新店溪', '新北市新店區']\n"
     ]
    }
   ],
   "source": [
    "import csv\n",
    "\n",
    "with open('水庫代碼.csv',encoding='utf-8',newline='') as csvfile:\n",
    "    reader = csv.reader(csvfile)\n",
    "    data = list(reader) # 把整份資料轉成 list 儲存\n",
    "\n",
    "for row in data[:5]:\n",
    "    print(row)"
   ]
  },
  {
   "cell_type": "code",
   "execution_count": 9,
   "id": "5f3b7543",
   "metadata": {},
   "outputs": [
    {
     "name": "stdout",
     "output_type": "stream",
     "text": [
      "   ReservoirIdentifier ReservoirName       RiverName TownName\n",
      "0                10204          新山水庫  基隆河支流大武崙溪支流新山溪   基隆巿安樂區\n",
      "1                10203          西勢水庫        基隆河支流西勢溪   基隆巿暖暖區\n",
      "2                10205          翡翠水庫        新店溪支流北勢溪   新北市新店區\n",
      "3                10302           粗坑壩        淡水河支流新店溪   新北市新店區\n",
      "4                10212           直潭壩        淡水河支流新店溪   新北市新店區\n"
     ]
    }
   ],
   "source": [
    "import pandas as pd\n",
    "\n",
    "df = pd.read_csv('水庫代碼.csv',encoding='utf-8')\n",
    "\n",
    "print (df.head())"
   ]
  }
 ],
 "metadata": {
  "kernelspec": {
   "display_name": "ChihLee1",
   "language": "python",
   "name": "python3"
  },
  "language_info": {
   "codemirror_mode": {
    "name": "ipython",
    "version": 3
   },
   "file_extension": ".py",
   "mimetype": "text/x-python",
   "name": "python",
   "nbconvert_exporter": "python",
   "pygments_lexer": "ipython3",
   "version": "3.10.16"
  }
 },
 "nbformat": 4,
 "nbformat_minor": 5
}
