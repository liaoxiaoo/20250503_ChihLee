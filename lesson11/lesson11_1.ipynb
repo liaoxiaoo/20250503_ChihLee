{
 "cells": [
  {
   "cell_type": "markdown",
   "id": "0e2f3e9e",
   "metadata": {},
   "source": [
    "https://www.perplexity.ai/search/f834ba4a-c32d-48c7-bfc3-36ef4d2b6d11"
   ]
  },
  {
   "cell_type": "code",
   "execution_count": null,
   "id": "dac08862",
   "metadata": {},
   "outputs": [
    {
     "data": {
      "text/plain": [
       "[15, 25, 35, 45, 55]"
      ]
     },
     "execution_count": 1,
     "metadata": {},
     "output_type": "execute_result"
    }
   ],
   "source": [
    "#list\n",
    "scores:list = [10, 20, 30, 40, 50]\n",
    "scores:list = list(range(10,60,10))\n",
    "\n",
    "# scores1:list = list()\n",
    "# for score in scores:\n",
    "#     score += 5\n",
    "#     scores1.append(score)\n",
    "scores1 = [score+5 for score in scores]\n",
    "scores1"
   ]
  },
  {
   "cell_type": "code",
   "execution_count": null,
   "id": "79d7bfdb",
   "metadata": {},
   "outputs": [
    {
     "data": {
      "text/plain": [
       "array([15, 25, 35, 45, 55])"
      ]
     },
     "execution_count": 2,
     "metadata": {},
     "output_type": "execute_result"
    }
   ],
   "source": [
    "#numpy\n",
    "import numpy as np\n",
    "\n",
    "array = np.array([10, 20, 30, 40, 50])\n",
    "type(array)\n",
    "array1 = array + 5\n",
    "array1"
   ]
  },
  {
   "cell_type": "code",
   "execution_count": 11,
   "id": "85e36e5c",
   "metadata": {},
   "outputs": [
    {
     "name": "stdout",
     "output_type": "stream",
     "text": [
      "[1 2 3]\n",
      "[[0. 0. 0.]\n",
      " [0. 0. 0.]]\n",
      "[[1. 0. 0.]\n",
      " [0. 1. 0.]\n",
      " [0. 0. 1.]]\n",
      "[5 7 9]\n"
     ]
    }
   ],
   "source": [
    "import numpy as np\n",
    "\n",
    "#建立一個1D陣列\n",
    "a = np.array([1, 2, 3])\n",
    "print(a)\n",
    "\n",
    "#建立一個2*3的全0矩陣\n",
    "b = np.zeros((2, 3))\n",
    "print(b)\n",
    "\n",
    "#建立一個3*3的單位矩陣\n",
    "c = np.eye(3)\n",
    "print(c)\n",
    "\n",
    "#陣列的加法\n",
    "d = a + [4, 5, 6]\n",
    "print(d)"
   ]
  }
 ],
 "metadata": {
  "kernelspec": {
   "display_name": "ChihLee1",
   "language": "python",
   "name": "python3"
  },
  "language_info": {
   "codemirror_mode": {
    "name": "ipython",
    "version": 3
   },
   "file_extension": ".py",
   "mimetype": "text/x-python",
   "name": "python",
   "nbconvert_exporter": "python",
   "pygments_lexer": "ipython3",
   "version": "3.10.16"
  }
 },
 "nbformat": 4,
 "nbformat_minor": 5
}
