{
  "nbformat": 4,
  "nbformat_minor": 0,
  "metadata": {
    "colab": {
      "provenance": [],
      "authorship_tag": "ABX9TyPS6lVDref7lWTyh1KDm9JE",
      "include_colab_link": true
    },
    "kernelspec": {
      "name": "python3",
      "display_name": "Python 3"
    },
    "language_info": {
      "name": "python"
    }
  },
  "cells": [
    {
      "cell_type": "markdown",
      "metadata": {
        "id": "view-in-github",
        "colab_type": "text"
      },
      "source": [
        "<a href=\"https://colab.research.google.com/github/liaoxiaoo/20250503_ChihLee/blob/main/lesson4/lesson4_2.ipynb\" target=\"_parent\"><img src=\"https://colab.research.google.com/assets/colab-badge.svg\" alt=\"Open In Colab\"/></a>"
      ]
    },
    {
      "cell_type": "markdown",
      "source": [
        "# python while迴圈說明\n",
        "\n",
        "---\n",
        "\n",
        "Python 的 while 迴圈用來根據條件判斷，重複執行某段程式碼，直到條件不成立為止。其基本語法如下：\n",
        "\n",
        "```\n",
        "while 條件:\n",
        "    程式區塊\n",
        "```\n",
        "\n",
        "•\t當條件為 True 時，會執行縮排的程式區塊。  \n",
        "•\t每次執行完程式區塊後，會再次檢查條件，若仍為 True，則繼續執行迴圈。  \n",
        "•\t當條件變為 False，迴圈結束，程式往下繼續執行。"
      ],
      "metadata": {
        "id": "oQOqnLOIB9uv"
      }
    },
    {
      "cell_type": "code",
      "execution_count": null,
      "metadata": {
        "id": "2n6LtZX-7_Nb",
        "colab": {
          "base_uri": "https://localhost:8080/"
        },
        "outputId": "ff421753-8395-481f-9322-02cc94b16b51"
      },
      "outputs": [
        {
          "output_type": "stream",
          "name": "stdout",
          "text": [
            "1\n",
            "2\n",
            "3\n",
            "4\n",
            "5\n"
          ]
        }
      ],
      "source": [
        "count = 1\n",
        "while count <= 5:\n",
        "  print(count)\n",
        "  count += 1"
      ]
    },
    {
      "cell_type": "code",
      "source": [
        "total = 0\n",
        "while True:\n",
        "  num = int(input(\"請輸入一個數字(輸入 0 結束)：\"))\n",
        "  if num == 0:\n",
        "    break\n",
        "  total += num\n",
        "print(total)"
      ],
      "metadata": {
        "colab": {
          "base_uri": "https://localhost:8080/"
        },
        "id": "vqRZOJC6CXXX",
        "outputId": "9d84d8a0-14c5-4927-9b3b-1c7c19d1e866"
      },
      "execution_count": null,
      "outputs": [
        {
          "output_type": "stream",
          "name": "stdout",
          "text": [
            "請輸入一個數字(輸入 0 結束)：0\n",
            "0\n"
          ]
        }
      ]
    },
    {
      "cell_type": "markdown",
      "source": [
        "# python 取得亂數1~100"
      ],
      "metadata": {
        "id": "BgMDqYTUIzTK"
      }
    },
    {
      "cell_type": "code",
      "source": [
        "import random\n",
        "min = 1\n",
        "max = 99\n",
        "random_number = random.randint (min,max)\n",
        "print(\"=======猜數字開始=======\\n\\n\")\n",
        "while True:\n",
        "  input(\"請輸入\")"
      ],
      "metadata": {
        "id": "wgsVNrq3JAp_"
      },
      "execution_count": null,
      "outputs": []
    },
    {
      "cell_type": "code",
      "source": [
        "orange = 3\n",
        "apple = 5\n",
        "\"您有orange \"+ str(orange) +\"個, apple \" + str(apple)+\"個\""
      ],
      "metadata": {
        "id": "DeS6z1DkJtCy",
        "outputId": "1b932bd9-6199-450c-8f1c-683563e27213",
        "colab": {
          "base_uri": "https://localhost:8080/",
          "height": 35
        }
      },
      "execution_count": null,
      "outputs": [
        {
          "output_type": "execute_result",
          "data": {
            "text/plain": [
              "'您有orange 3個, apple 5個'"
            ],
            "application/vnd.google.colaboratory.intrinsic+json": {
              "type": "string"
            }
          },
          "metadata": {},
          "execution_count": 19
        }
      ]
    },
    {
      "cell_type": "code",
      "source": [
        "orange = 3\n",
        "apple = 5\n",
        "f\"您有orange{orange}個,apple{apple}個\""
      ],
      "metadata": {
        "id": "zIPPJGd2K197",
        "outputId": "fc1f47bf-a3b3-4f4a-eca9-6ccff49b1f2f",
        "colab": {
          "base_uri": "https://localhost:8080/",
          "height": 35
        }
      },
      "execution_count": null,
      "outputs": [
        {
          "output_type": "execute_result",
          "data": {
            "text/plain": [
              "'您有orange3個,apple5個'"
            ],
            "application/vnd.google.colaboratory.intrinsic+json": {
              "type": "string"
            }
          },
          "metadata": {},
          "execution_count": 24
        }
      ]
    },
    {
      "cell_type": "markdown",
      "source": [
        "#猜數字遊戲"
      ],
      "metadata": {
        "id": "FAFnPoCaPj1j"
      }
    },
    {
      "cell_type": "code",
      "source": [
        "import random\n",
        "min = 1\n",
        "max = 99\n",
        "random_number = random.randint(min,max)\n",
        "count = 0\n",
        "print(random_number)\n",
        "print(\"=======Guess Game Start=======\\n\\n\")\n",
        "while True:\n",
        "  input_number = int(input(f\"Input number({min})~({max}):\"))\n",
        "  count += 1\n",
        "  if (input_number == random_number):\n",
        "    print(f\"BINGO!,The answer is {input_number}\")\n",
        "    print(f\"u guess {count} times\")\n",
        "    break\n",
        "  elif (input_number > random_number):\n",
        "    print(f\"Too Big !\")\n",
        "    max = input_number - 1\n",
        "  elif (input_number < random_number):\n",
        "    print(f\"Too Small !\")\n",
        "    min = input_number + 1\n",
        "  print(f\"u guessed {count} times\")\n",
        "\n",
        "print(\"Congratulations!\")\n",
        "print(\"^___^\")"
      ],
      "metadata": {
        "id": "1F-g0iZdPUWG",
        "outputId": "0d7f8d42-0431-4bda-b878-be74d30c7a66",
        "colab": {
          "base_uri": "https://localhost:8080/"
        }
      },
      "execution_count": 37,
      "outputs": [
        {
          "output_type": "stream",
          "name": "stdout",
          "text": [
            "28\n",
            "=======Guess Game Start=======\n",
            "\n",
            "\n",
            "Input number(1)~(99):20\n",
            "Too Small !\n",
            "u guessed 1 times\n",
            "Input number(21)~(99):50\n",
            "Too Big !\n",
            "u guessed 2 times\n",
            "Input number(21)~(49):30\n",
            "Too Big !\n",
            "u guessed 3 times\n",
            "Input number(21)~(29):28\n",
            "BINGO!,The answer is 28\n",
            "u guess 4 times\n",
            "Congratulations!\n",
            "^___^\n"
          ]
        }
      ]
    }
  ]
}