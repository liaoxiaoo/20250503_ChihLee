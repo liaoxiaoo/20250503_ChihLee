{
 "cells": [
  {
   "cell_type": "markdown",
   "id": "fa36e098",
   "metadata": {},
   "source": [
    "#Test"
   ]
  },
  {
   "cell_type": "code",
   "execution_count": 1,
   "id": "ce6ae27f",
   "metadata": {},
   "outputs": [
    {
     "name": "stdout",
     "output_type": "stream",
     "text": [
      "Test0517\n"
     ]
    }
   ],
   "source": [
    "print (\"Test0517\")"
   ]
  }
 ],
 "metadata": {
  "kernelspec": {
   "display_name": "ChihLee1",
   "language": "python",
   "name": "python3"
  },
  "language_info": {
   "codemirror_mode": {
    "name": "ipython",
    "version": 3
   },
   "file_extension": ".py",
   "mimetype": "text/x-python",
   "name": "python",
   "nbconvert_exporter": "python",
   "pygments_lexer": "ipython3",
   "version": "3.10.16"
  }
 },
 "nbformat": 4,
 "nbformat_minor": 5
}
