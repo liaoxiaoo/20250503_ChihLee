{
  "nbformat": 4,
  "nbformat_minor": 0,
  "metadata": {
    "colab": {
      "provenance": [],
      "authorship_tag": "ABX9TyMw1osuzOQbXPAWo8lopLUa",
      "include_colab_link": true
    },
    "kernelspec": {
      "name": "python3",
      "display_name": "Python 3"
    },
    "language_info": {
      "name": "python"
    }
  },
  "cells": [
    {
      "cell_type": "markdown",
      "metadata": {
        "id": "view-in-github",
        "colab_type": "text"
      },
      "source": [
        "<a href=\"https://colab.research.google.com/github/liaoxiaoo/20250503_ChihLee/blob/main/lesson2/lesson2_2.ipynb\" target=\"_parent\"><img src=\"https://colab.research.google.com/assets/colab-badge.svg\" alt=\"Open In Colab\"/></a>"
      ]
    },
    {
      "cell_type": "markdown",
      "source": [
        "### 只有數值型別可以數學運算"
      ],
      "metadata": {
        "id": "QljIkuunK1BO"
      }
    },
    {
      "cell_type": "code",
      "execution_count": 1,
      "metadata": {
        "id": "BavmwPfjF060",
        "outputId": "e51b8f06-642b-4912-fd8a-33a228001a8b",
        "colab": {
          "base_uri": "https://localhost:8080/"
        }
      },
      "outputs": [
        {
          "output_type": "execute_result",
          "data": {
            "text/plain": [
              "10.0"
            ]
          },
          "metadata": {},
          "execution_count": 1
        }
      ],
      "source": [
        "5 + 5\n",
        "5.0 + 5.0\n",
        "5 + 5.0"
      ]
    },
    {
      "cell_type": "markdown",
      "source": [
        "### 數值和字串無法數學運算"
      ],
      "metadata": {
        "id": "Ci-IbkEPK-Ej"
      }
    },
    {
      "cell_type": "code",
      "source": [
        "5 + \"5\""
      ],
      "metadata": {
        "id": "eTBrqsisLArx"
      },
      "execution_count": null,
      "outputs": []
    },
    {
      "cell_type": "markdown",
      "source": [
        "### 字串和字串可以相加,相乘"
      ],
      "metadata": {
        "id": "KngcX--TLHNo"
      }
    },
    {
      "cell_type": "code",
      "source": [
        "\"5\" + \"5\"\n",
        "\"=\" * 10"
      ],
      "metadata": {
        "id": "JcbW6JPMLKlZ",
        "outputId": "2764a07f-c540-4f49-e522-84daf2db2c48",
        "colab": {
          "base_uri": "https://localhost:8080/",
          "height": 35
        }
      },
      "execution_count": 2,
      "outputs": [
        {
          "output_type": "execute_result",
          "data": {
            "text/plain": [
              "'=========='"
            ],
            "application/vnd.google.colaboratory.intrinsic+json": {
              "type": "string"
            }
          },
          "metadata": {},
          "execution_count": 2
        }
      ]
    },
    {
      "cell_type": "markdown",
      "source": [
        "### 暫時轉換型別"
      ],
      "metadata": {
        "id": "UhTQHiIWLOug"
      }
    },
    {
      "cell_type": "code",
      "source": [
        "5 + float(\"5\")"
      ],
      "metadata": {
        "id": "x_18OZ2mLXdI",
        "outputId": "bef04c78-0cf1-414d-8f75-56a7d0f012e5",
        "colab": {
          "base_uri": "https://localhost:8080/"
        }
      },
      "execution_count": 3,
      "outputs": [
        {
          "output_type": "execute_result",
          "data": {
            "text/plain": [
              "10.0"
            ]
          },
          "metadata": {},
          "execution_count": 3
        }
      ]
    },
    {
      "cell_type": "code",
      "source": [
        "width = float(input(\"請輸入矩型的寬:\"))\n",
        "height = float(input(\"請輸入矩形的高:\"))\n",
        "area = width * height\n",
        "print(\"矩形的面積為:\",area)"
      ],
      "metadata": {
        "id": "2Kd_q9SGLbZw",
        "outputId": "626df846-d3ac-4ad2-84c1-d909fcac7a16",
        "colab": {
          "base_uri": "https://localhost:8080/"
        }
      },
      "execution_count": 4,
      "outputs": [
        {
          "output_type": "stream",
          "name": "stdout",
          "text": [
            "請輸入矩型的寬:28\n",
            "請輸入矩形的高:33\n",
            "矩形的面積為: 924.0\n"
          ]
        }
      ]
    }
  ]
}