{
  "nbformat": 4,
  "nbformat_minor": 0,
  "metadata": {
    "colab": {
      "provenance": [],
      "authorship_tag": "ABX9TyOWu6nbt0DeCkms1uaUwukR",
      "include_colab_link": true
    },
    "kernelspec": {
      "name": "python3",
      "display_name": "Python 3"
    },
    "language_info": {
      "name": "python"
    }
  },
  "cells": [
    {
      "cell_type": "markdown",
      "metadata": {
        "id": "view-in-github",
        "colab_type": "text"
      },
      "source": [
        "<a href=\"https://colab.research.google.com/github/liaoxiaoo/20250503_ChihLee/blob/main/lesson2/lesson2_2.ipynb\" target=\"_parent\"><img src=\"https://colab.research.google.com/assets/colab-badge.svg\" alt=\"Open In Colab\"/></a>"
      ]
    },
    {
      "cell_type": "markdown",
      "source": [
        "### 只有數值型別可以數學運算"
      ],
      "metadata": {
        "id": "QljIkuunK1BO"
      }
    },
    {
      "cell_type": "code",
      "execution_count": 1,
      "metadata": {
        "id": "BavmwPfjF060",
        "colab": {
          "base_uri": "https://localhost:8080/"
        },
        "outputId": "e51b8f06-642b-4912-fd8a-33a228001a8b"
      },
      "outputs": [
        {
          "output_type": "execute_result",
          "data": {
            "text/plain": [
              "10.0"
            ]
          },
          "metadata": {},
          "execution_count": 1
        }
      ],
      "source": [
        "5 + 5\n",
        "5.0 + 5.0\n",
        "5 + 5.0"
      ]
    },
    {
      "cell_type": "markdown",
      "source": [
        "### 數值和字串無法數學運算"
      ],
      "metadata": {
        "id": "Ci-IbkEPK-Ej"
      }
    },
    {
      "cell_type": "code",
      "source": [
        "5 + \"5\""
      ],
      "metadata": {
        "id": "eTBrqsisLArx"
      },
      "execution_count": null,
      "outputs": []
    },
    {
      "cell_type": "markdown",
      "source": [
        "### 字串和字串可以相加,相乘"
      ],
      "metadata": {
        "id": "KngcX--TLHNo"
      }
    },
    {
      "cell_type": "code",
      "source": [
        "\"5\" + \"5\"\n",
        "\"=\" * 10"
      ],
      "metadata": {
        "colab": {
          "base_uri": "https://localhost:8080/",
          "height": 35
        },
        "id": "JcbW6JPMLKlZ",
        "outputId": "2764a07f-c540-4f49-e522-84daf2db2c48"
      },
      "execution_count": 2,
      "outputs": [
        {
          "output_type": "execute_result",
          "data": {
            "text/plain": [
              "'=========='"
            ],
            "application/vnd.google.colaboratory.intrinsic+json": {
              "type": "string"
            }
          },
          "metadata": {},
          "execution_count": 2
        }
      ]
    },
    {
      "cell_type": "markdown",
      "source": [
        "### 暫時轉換型別"
      ],
      "metadata": {
        "id": "UhTQHiIWLOug"
      }
    },
    {
      "cell_type": "code",
      "source": [
        "5 + float(\"5\")"
      ],
      "metadata": {
        "colab": {
          "base_uri": "https://localhost:8080/"
        },
        "id": "x_18OZ2mLXdI",
        "outputId": "bef04c78-0cf1-414d-8f75-56a7d0f012e5"
      },
      "execution_count": 3,
      "outputs": [
        {
          "output_type": "execute_result",
          "data": {
            "text/plain": [
              "10.0"
            ]
          },
          "metadata": {},
          "execution_count": 3
        }
      ]
    },
    {
      "cell_type": "code",
      "source": [
        "width = float(input(\"請輸入矩型的寬:\"))\n",
        "height = float(input(\"請輸入矩形的高:\"))\n",
        "area = width * height\n",
        "print(\"矩形的面積為:\",area)"
      ],
      "metadata": {
        "colab": {
          "base_uri": "https://localhost:8080/"
        },
        "id": "2Kd_q9SGLbZw",
        "outputId": "626df846-d3ac-4ad2-84c1-d909fcac7a16"
      },
      "execution_count": 4,
      "outputs": [
        {
          "output_type": "stream",
          "name": "stdout",
          "text": [
            "請輸入矩型的寬:28\n",
            "請輸入矩形的高:33\n",
            "矩形的面積為: 924.0\n"
          ]
        }
      ]
    },
    {
      "cell_type": "code",
      "source": [
        "import math\n",
        "\n",
        "na = float(input(\"請輸入對邊:\"))\n",
        "nb = float(input(\"請輸入臨邊:\"))\n",
        "nc = math.sqrt(na ** 2 + nb ** 2)\n",
        "print(\"斜邊為:\",nc)"
      ],
      "metadata": {
        "id": "UuCJFFFlNDNn",
        "outputId": "510131d1-fa10-4921-811d-184776eeeabe",
        "colab": {
          "base_uri": "https://localhost:8080/"
        }
      },
      "execution_count": 5,
      "outputs": [
        {
          "output_type": "stream",
          "name": "stdout",
          "text": [
            "請輸入對邊:30\n",
            "請輸入臨邊:40\n",
            "斜邊為: 50.0\n"
          ]
        }
      ]
    }
  ]
}