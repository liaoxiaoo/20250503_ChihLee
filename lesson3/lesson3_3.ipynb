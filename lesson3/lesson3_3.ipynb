{
  "nbformat": 4,
  "nbformat_minor": 0,
  "metadata": {
    "colab": {
      "provenance": [],
      "authorship_tag": "ABX9TyOCrzY9XsEuZULLjisZAxwP",
      "include_colab_link": true
    },
    "kernelspec": {
      "name": "python3",
      "display_name": "Python 3"
    },
    "language_info": {
      "name": "python"
    }
  },
  "cells": [
    {
      "cell_type": "markdown",
      "metadata": {
        "id": "view-in-github",
        "colab_type": "text"
      },
      "source": [
        "<a href=\"https://colab.research.google.com/github/liaoxiaoo/20250503_ChihLee/blob/main/lesson3/lesson3_3.ipynb\" target=\"_parent\"><img src=\"https://colab.research.google.com/assets/colab-badge.svg\" alt=\"Open In Colab\"/></a>"
      ]
    },
    {
      "cell_type": "markdown",
      "source": [
        "# python for迴圈的說明\n",
        "\n",
        "---\n",
        "\n",
        "\n",
        "\n",
        "```\n",
        "for 變數 in 集合:\n",
        "  # 迴圈內要執行的程式碼\n",
        "```"
      ],
      "metadata": {
        "id": "sF0vrlnKRXDy"
      }
    },
    {
      "cell_type": "code",
      "execution_count": 8,
      "metadata": {
        "id": "gSpf6Df3RCt4",
        "outputId": "83e18392-1b19-427f-b0d0-af1546856716",
        "colab": {
          "base_uri": "https://localhost:8080/"
        }
      },
      "outputs": [
        {
          "output_type": "execute_result",
          "data": {
            "text/plain": [
              "5050"
            ]
          },
          "metadata": {},
          "execution_count": 8
        }
      ],
      "source": [
        "m = 0\n",
        "for n in range(1,101):\n",
        "  m += n\n",
        "m"
      ]
    }
  ]
}