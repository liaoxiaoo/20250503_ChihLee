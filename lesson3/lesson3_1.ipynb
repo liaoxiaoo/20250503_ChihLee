{
  "nbformat": 4,
  "nbformat_minor": 0,
  "metadata": {
    "colab": {
      "provenance": [],
      "authorship_tag": "ABX9TyPh/urVoJOMaXkpLV91zmOn",
      "include_colab_link": true
    },
    "kernelspec": {
      "name": "python3",
      "display_name": "Python 3"
    },
    "language_info": {
      "name": "python"
    }
  },
  "cells": [
    {
      "cell_type": "markdown",
      "metadata": {
        "id": "view-in-github",
        "colab_type": "text"
      },
      "source": [
        "<a href=\"https://colab.research.google.com/github/liaoxiaoo/20250503_ChihLee/blob/main/lesson3/lesson3_1.ipynb\" target=\"_parent\"><img src=\"https://colab.research.google.com/assets/colab-badge.svg\" alt=\"Open In Colab\"/></a>"
      ]
    },
    {
      "cell_type": "markdown",
      "source": [
        "# python的條件式\n",
        "## python的比較運算子\n",
        "Python 的比較運算子用來比較兩個值，並回傳布林值（True 或 False）。Python 支援以下主要的比較運算子：\n",
        "\n",
        "- `<` ：小於\n",
        "- `<=` ：小於等於\n",
        "- `>` ：大於\n",
        "- `>=` ：大於等於\n",
        "- `==` ：等於\n",
        "- `!=` ：不等於\n",
        "- `is` ：判斷兩個物件是否為同一個物件（物件識別）\n",
        "- `is not` ：判斷兩個物件是否不是同一個物件"
      ],
      "metadata": {
        "id": "R4EIYYLX4iwE"
      }
    },
    {
      "cell_type": "code",
      "execution_count": 1,
      "metadata": {
        "id": "-oRFdTqj0Vr3",
        "colab": {
          "base_uri": "https://localhost:8080/"
        },
        "outputId": "bf5a4acd-8838-485a-b01d-d27d0ef7a753"
      },
      "outputs": [
        {
          "output_type": "stream",
          "name": "stderr",
          "text": [
            "<>:3: SyntaxWarning: \"is\" with a literal. Did you mean \"==\"?\n",
            "<>:4: SyntaxWarning: \"is not\" with a literal. Did you mean \"!=\"?\n",
            "<>:3: SyntaxWarning: \"is\" with a literal. Did you mean \"==\"?\n",
            "<>:4: SyntaxWarning: \"is not\" with a literal. Did you mean \"!=\"?\n",
            "<ipython-input-1-4ebd421497a6>:3: SyntaxWarning: \"is\" with a literal. Did you mean \"==\"?\n",
            "  5 is 5.0\n",
            "<ipython-input-1-4ebd421497a6>:4: SyntaxWarning: \"is not\" with a literal. Did you mean \"!=\"?\n",
            "  5 is not 5.0\n"
          ]
        },
        {
          "output_type": "execute_result",
          "data": {
            "text/plain": [
              "True"
            ]
          },
          "metadata": {},
          "execution_count": 1
        }
      ],
      "source": [
        "5 == 5\n",
        "5 != 5\n",
        "5 is 5.0\n",
        "5 is not 5.0"
      ]
    },
    {
      "cell_type": "markdown",
      "source": [
        "# python 條件式\n",
        "- 單項式\n",
        "- 雙向式\n",
        "請給我：\n",
        "- 語法\n",
        "- 說明\n",
        "- 小範例\n",
        "\n",
        "請使用繁體中文"
      ],
      "metadata": {
        "id": "JIfwrZjO5yZE"
      }
    },
    {
      "cell_type": "markdown",
      "source": [
        "在Python中，條件式可分為「單項式」與「雙項式」，以下說明其語法、意義與範例：\n",
        "\n",
        "## 單項式條件式\n",
        "\n",
        "**語法：**\n",
        "\n",
        "```python\n",
        "if 條件:\n",
        "    執行程式區塊\n",
        "```\n",
        "\n",
        "**說明：**  \n",
        "單項式條件式指的是只有一個判斷條件，當條件成立（True）時，執行縮排的程式區塊，否則不執行任何動作（無else部分）。這是最簡單的條件判斷。\n",
        "\n",
        "**範例：**\n",
        "\n",
        "```python\n",
        "score = 75\n",
        "if score >= 60:\n",
        "    print(\"及格\")\n",
        "```\n",
        "\n",
        "執行結果：\n",
        "\n",
        "```\n",
        "及格\n",
        "```\n",
        "\n",
        "（當score大於等於60時，印出「及格」）[4][5][6]\n",
        "\n",
        "---\n",
        "\n",
        "## 雙項式條件式\n",
        "\n",
        "**語法：**\n",
        "\n",
        "```python\n",
        "if 條件:\n",
        "    條件成立時執行的程式區塊\n",
        "else:\n",
        "    條件不成立時執行的程式區塊\n",
        "```\n",
        "\n",
        "**說明：**  \n",
        "雙項式條件式有兩個分支，當條件為True時執行if區塊，條件為False時執行else區塊，確保程式必定執行其中一個區塊。\n",
        "\n",
        "**範例：**\n",
        "\n",
        "```python\n",
        "score = 55\n",
        "if score >= 60:\n",
        "    print(\"及格\")\n",
        "else:\n",
        "    print(\"不及格\")\n",
        "```\n",
        "\n",
        "執行結果：\n",
        "\n",
        "```\n",
        "不及格\n",
        "```\n",
        "\n",
        "（當score小於60時，印出「不及格」）[3][4][5]\n",
        "\n",
        "---\n",
        "\n",
        "## 補充：多項式條件式（if-elif-else）\n",
        "\n",
        "當有多個條件判斷時，可使用elif擴充：\n",
        "\n",
        "```python\n",
        "score = 85\n",
        "if score >= 90:\n",
        "    print(\"優等\")\n",
        "elif score >= 60:\n",
        "    print(\"及格\")\n",
        "else:\n",
        "    print(\"不及格\")\n",
        "```\n",
        "\n",
        "---\n",
        "\n",
        "## 小結\n",
        "\n",
        "| 條件式類型 | 語法範例                        | 說明                         |\n",
        "|------------|--------------------------------|------------------------------|\n",
        "| 單項式     | `if 條件:`<br>`    程式區塊`   | 條件成立才執行，否則跳過     |\n",
        "| 雙項式     | `if 條件:`<br>`    程式區塊`<br>`else:`<br>`    程式區塊` | 條件成立執行if區塊，否則執行else區塊 |\n",
        "\n",
        "---"
      ],
      "metadata": {
        "id": "CTuhwWbr8tqO"
      }
    },
    {
      "cell_type": "code",
      "source": [
        "#雙向選擇\n",
        "scores = 60\n",
        "if scores >= 60:\n",
        "  print(\"及格\")\n",
        "else:\n",
        "  print(\"不及格\")"
      ],
      "metadata": {
        "colab": {
          "base_uri": "https://localhost:8080/"
        },
        "id": "sQPNChiO6FDX",
        "outputId": "263c6dfc-803d-4001-9b20-955d6aab2a31"
      },
      "execution_count": 2,
      "outputs": [
        {
          "output_type": "stream",
          "name": "stdout",
          "text": [
            "及格\n"
          ]
        }
      ]
    },
    {
      "cell_type": "code",
      "source": [
        "#單向選擇\n",
        "scores = 60\n",
        "if scores < 60:\n",
        "  print(\"不及格\")\n",
        "print(\"應用程式結束了\")"
      ],
      "metadata": {
        "colab": {
          "base_uri": "https://localhost:8080/"
        },
        "id": "1f49KQmm9TQJ",
        "outputId": "4e31ff39-1751-4aa1-f842-d2cd3a113e91"
      },
      "execution_count": 4,
      "outputs": [
        {
          "output_type": "stream",
          "name": "stdout",
          "text": [
            "應用程式結束了\n"
          ]
        }
      ]
    },
    {
      "cell_type": "markdown",
      "source": [
        "# python的多項選擇說明\n",
        "- 語法\n",
        "- 小範例\n",
        "- 繁體中文回覆\n",
        "\n",
        "---\n",
        "Python 的多項選擇結構（多向選擇）是利用多個 if-elif-else 來實現，讓程式可以根據不同條件執行不同的程式區塊。這種結構適合用來處理多種可能的條件判斷，並依據條件給出不同的結果。\n",
        "\n",
        "```\n",
        "if 條件判斷1:\n",
        "    條件判斷1成立時執行的程式碼\n",
        "elif 條件判斷2:\n",
        "    條件判斷2成立時執行的程式碼\n",
        "elif 條件判斷3:\n",
        "    條件判斷3成立時執行的程式碼\n",
        "...\n",
        "else:\n",
        "    以上條件皆不成立時執行的程式碼\n",
        "\n",
        "```"
      ],
      "metadata": {
        "id": "3l3yErijCnWs"
      }
    },
    {
      "cell_type": "code",
      "source": [
        "#巢狀判斷\n",
        "scores = 67\n",
        "if scores >= 80:\n",
        "  print(\"優等\")\n",
        "else:\n",
        "  if scores >= 60:\n",
        "    print(\"甲等\")\n",
        "  else:\n",
        "    print(\"不及格\")"
      ],
      "metadata": {
        "colab": {
          "base_uri": "https://localhost:8080/"
        },
        "id": "6q9Ui_L6C942",
        "outputId": "266f22f3-078a-4dfb-baca-2335ed1a37d4"
      },
      "execution_count": 7,
      "outputs": [
        {
          "output_type": "stream",
          "name": "stdout",
          "text": [
            "甲等\n"
          ]
        }
      ]
    },
    {
      "cell_type": "code",
      "source": [
        "#多項選擇結構\n",
        "scores = 55\n",
        "if scores >= 80:\n",
        "  print(\"優等\")\n",
        "elif scores >= 60:\n",
        "  print(\"甲等\")\n",
        "else:\n",
        "  print(\"再加油喔!\")"
      ],
      "metadata": {
        "colab": {
          "base_uri": "https://localhost:8080/"
        },
        "id": "IKfN6t9ED5iH",
        "outputId": "c8a59ed7-d744-431f-88fe-0ba723007764"
      },
      "execution_count": 10,
      "outputs": [
        {
          "output_type": "stream",
          "name": "stdout",
          "text": [
            "再加油喔!\n"
          ]
        }
      ]
    },
    {
      "cell_type": "code",
      "source": [
        "#多項選擇的結構\n",
        "scores = 77\n",
        "if scores < 60:\n",
        "  print(\"不及格\")\n",
        "elif scores < 70:\n",
        "  print(\"丙等\")\n",
        "elif scores < 80:\n",
        "  print(\"乙等\")\n",
        "elif scores < 90:\n",
        "  print(\"甲等\")\n",
        "else:\n",
        "  print(\"優等\")"
      ],
      "metadata": {
        "id": "joznrX1nJILx",
        "outputId": "a28d59e4-e9e2-452f-f1e9-b401d275f589",
        "colab": {
          "base_uri": "https://localhost:8080/"
        }
      },
      "execution_count": 13,
      "outputs": [
        {
          "output_type": "stream",
          "name": "stdout",
          "text": [
            "乙等\n"
          ]
        }
      ]
    }
  ]
}