{
 "cells": [
  {
   "cell_type": "code",
   "execution_count": 18,
   "id": "335d653d",
   "metadata": {},
   "outputs": [
    {
     "name": "stdout",
     "output_type": "stream",
     "text": [
      "BMI:21.45\n",
      "正常範圍\n"
     ]
    }
   ],
   "source": [
    "def caculate_bmi(height: int, weight: int) -> float:\n",
    "    return (weight /((height / 100) ** 2))\n",
    "\n",
    "def classify_bmi(bmi: float) -> str:\n",
    "    if bmi < 18.5:\n",
    "        return \"體重過重\"\n",
    "    elif bmi < 24:\n",
    "        return \"正常範圍\"\n",
    "    elif bmi < 27:\n",
    "        return \"過重\"\n",
    "    elif bmi < 30:\n",
    "        return \"輕度肥胖\"\n",
    "    elif bmi < 35:\n",
    "        return \"中度肥胖\"\n",
    "    else:\n",
    "        return \"重度肥胖\"\n",
    "\n",
    "height = 170\n",
    "#height:int = int(input(\"請輸入身高(cm):\"))\n",
    "weight = 62\n",
    "#weight:int = int(input(\"請輸入體重(kg):\"))\n",
    "\n",
    "bmi = caculate_bmi(height , weight)\n",
    "\n",
    "print(f\"BMI:{bmi:.2f}\")\n",
    "print(classify_bmi(bmi))"
   ]
  }
 ],
 "metadata": {
  "kernelspec": {
   "display_name": "ChihLee1",
   "language": "python",
   "name": "python3"
  },
  "language_info": {
   "codemirror_mode": {
    "name": "ipython",
    "version": 3
   },
   "file_extension": ".py",
   "mimetype": "text/x-python",
   "name": "python",
   "nbconvert_exporter": "python",
   "pygments_lexer": "ipython3",
   "version": "3.10.16"
  }
 },
 "nbformat": 4,
 "nbformat_minor": 5
}
