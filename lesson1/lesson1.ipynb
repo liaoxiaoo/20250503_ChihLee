{
  "nbformat": 4,
  "nbformat_minor": 0,
  "metadata": {
    "colab": {
      "provenance": [],
      "authorship_tag": "ABX9TyPZcvJxOC5hhUDCGRkYyJA/",
      "include_colab_link": true
    },
    "kernelspec": {
      "name": "python3",
      "display_name": "Python 3"
    },
    "language_info": {
      "name": "python"
    }
  },
  "cells": [
    {
      "cell_type": "markdown",
      "metadata": {
        "id": "view-in-github",
        "colab_type": "text"
      },
      "source": [
        "<a href=\"https://colab.research.google.com/github/liaoxiaoo/20250503_ChihLee/blob/main/lesson1/lesson1.ipynb\" target=\"_parent\"><img src=\"https://colab.research.google.com/assets/colab-badge.svg\" alt=\"Open In Colab\"/></a>"
      ]
    },
    {
      "cell_type": "markdown",
      "source": [
        "# 標題1\n",
        "## 標題2\n",
        "### 標題3\n",
        "#### 標題4\n",
        "##### 標題5\n",
        "###### 標題6"
      ],
      "metadata": {
        "id": "RBS8-zmEMyIv"
      }
    },
    {
      "cell_type": "code",
      "execution_count": null,
      "metadata": {
        "colab": {
          "base_uri": "https://localhost:8080/"
        },
        "id": "NFWQpcOACqY6",
        "outputId": "b972afb1-00b7-4a3a-d0a7-e2c1a8ea3074"
      },
      "outputs": [
        {
          "output_type": "stream",
          "name": "stdout",
          "text": [
            "Hello! python!\n"
          ]
        }
      ],
      "source": [
        "print(\"Hello! python!\")"
      ]
    },
    {
      "cell_type": "code",
      "source": [
        "print(5 + 5)\n",
        "print(90 - 10)\n",
        "print(4 * 7)\n",
        "print(7 / 2)\n",
        "print(7 // 2)\n",
        "print(7 % 3)\n",
        "print(3 ** 4)"
      ],
      "metadata": {
        "id": "XcEkSMXjSznx",
        "outputId": "74cb9301-a528-489b-8765-545d3c789fb1",
        "colab": {
          "base_uri": "https://localhost:8080/"
        }
      },
      "execution_count": 1,
      "outputs": [
        {
          "output_type": "stream",
          "name": "stdout",
          "text": [
            "10\n",
            "80\n",
            "28\n",
            "3.5\n",
            "3\n",
            "1\n",
            "81\n"
          ]
        }
      ]
    }
  ]
}